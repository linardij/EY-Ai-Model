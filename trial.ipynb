{
 "cells": [
  {
   "cell_type": "code",
   "execution_count": 1,
   "metadata": {},
   "outputs": [
    {
     "name": "stdout",
     "output_type": "stream",
     "text": [
      "/Users/samuelalamsjah/Documents/Projects/EY-Ai-Model/venv/bin/python\n",
      "['langchain', 'langchain-community', 'langchain-core', 'langchain-openai', 'langchain-text-splitters']\n"
     ]
    },
    {
     "name": "stderr",
     "output_type": "stream",
     "text": [
      "/var/folders/zr/r83vtpz93635tbwyvw749wn40000gn/T/ipykernel_55938/1930377967.py:4: DeprecationWarning: pkg_resources is deprecated as an API. See https://setuptools.pypa.io/en/latest/pkg_resources.html\n",
      "  import pkg_resources\n"
     ]
    }
   ],
   "source": [
    "import sys\n",
    "print(sys.executable)  # This should point to your virtual environment\n",
    "\n",
    "import pkg_resources\n",
    "print([p.key for p in pkg_resources.working_set if 'langchain' in p.key.lower()])"
   ]
  },
  {
   "cell_type": "code",
   "execution_count": 15,
   "metadata": {},
   "outputs": [],
   "source": [
    "from langchain.utilities import GoogleSerperAPIWrapper\n",
    "from langchain_core.messages import HumanMessage, AIMessage\n",
    "from langchain_openai import ChatOpenAI\n",
    "from langchain.tools import Tool\n",
    "from langgraph.graph import StateGraph, END\n",
    "from typing import TypedDict, List, Dict, Tuple\n",
    "\n",
    "from dotenv import load_dotenv\n",
    "import os"
   ]
  },
  {
   "cell_type": "code",
   "execution_count": 16,
   "metadata": {},
   "outputs": [],
   "source": [
    "load_dotenv()\n",
    "\n",
    "# Get API key from environment variables\n",
    "SERPER_API_KEY = os.getenv(\"SERPER_API_KEY\")\n",
    "OPENAI_API_KEY = os.getenv(\"OPENAI_API_KEY\")\n",
    "if not OPENAI_API_KEY:\n",
    "    raise ValueError(\"OPENAI_API_KEY not found in environment variables\")"
   ]
  },
  {
   "cell_type": "code",
   "execution_count": 17,
   "metadata": {},
   "outputs": [],
   "source": [
    "# Define the state structure\n",
    "class AgentState(TypedDict):\n",
    "    messages: List[Dict]\n",
    "    current_step: int\n",
    "    \n",
    "# Initialize the LLM and search tool\n",
    "llm = ChatOpenAI(temperature=0) # temperature 0 gives more accuracy\n",
    "search = GoogleSerperAPIWrapper()\n"
   ]
  },
  {
   "cell_type": "code",
   "execution_count": 26,
   "metadata": {},
   "outputs": [],
   "source": [
    "async def async_search(query: str) -> str:\n",
    "    # returns a dictionary\n",
    "    search_results = search.results(query)\n",
    "\n",
    "    # Extract organic search results\n",
    "    organic_results = search_results.get('organic', [])\n",
    "\n",
    "    # Format the results\n",
    "    formatted_results = []\n",
    "    for result in organic_results[:3]:  # Get top 3 results\n",
    "        title = result.get('title', '')\n",
    "        link = result.get('link', '')\n",
    "        snippet = result.get('snippet', '')\n",
    "        formatted_results.append(f\"Title: {title}\\nLink: {link}\\nSummary: {snippet}\\n\")\n",
    "    \n",
    "    print(\"\\n\".join(formatted_results))\n",
    "    \n",
    "    return \"\\n\".join(formatted_results)"
   ]
  },
  {
   "cell_type": "code",
   "execution_count": 27,
   "metadata": {},
   "outputs": [],
   "source": [
    "# Create tools list\n",
    "tools = [\n",
    "    Tool(\n",
    "        name=\"web_search\",\n",
    "        description=\"Searches google for information using Serper API\",\n",
    "        func=async_search,\n",
    "        coroutine=async_search  # This is important for async tools\n",
    "    )\n",
    "]"
   ]
  },
  {
   "cell_type": "code",
   "execution_count": 28,
   "metadata": {},
   "outputs": [],
   "source": [
    "# Define agent functions\n",
    "def should_continue(state: AgentState) -> bool:\n",
    "    \"\"\"Determine if the agent should continue or end.\"\"\"\n",
    "    return state[\"current_step\"] < 1\n",
    "\n",
    "async def search_and_analyze(state: AgentState) -> AgentState:\n",
    "    \"\"\"Search the web and analyze results asynchronously.\"\"\"\n",
    "    messages = state[\"messages\"]\n",
    "    last_message = messages[-1][\"content\"]\n",
    "    \n",
    "    # Perform async search\n",
    "    search_result = await async_search(last_message)\n",
    "    \n",
    "    # Analyze results with LLM\n",
    "    response = await llm.ainvoke([\n",
    "        HumanMessage(content=f\"\"\"\n",
    "        Based on this search result: {search_result}\n",
    "        Please provide a clear and concise answer to: {last_message}\n",
    "        \"\"\")\n",
    "    ])\n",
    "    \n",
    "    messages.append({\"role\": \"assistant\", \"content\": response.content})\n",
    "    state[\"current_step\"] += 1\n",
    "    return state"
   ]
  },
  {
   "cell_type": "code",
   "execution_count": 29,
   "metadata": {},
   "outputs": [],
   "source": [
    "# Create the graph\n",
    "workflow = StateGraph(AgentState)\n",
    "\n",
    "# Add nodes\n",
    "workflow.add_node(\"search_and_analyze\", search_and_analyze)\n",
    "\n",
    "# Add the starting edge from START to our first node\n",
    "workflow.set_entry_point(\"search_and_analyze\")\n",
    "\n",
    "# Add edges\n",
    "workflow.add_conditional_edges(\n",
    "    \"search_and_analyze\",\n",
    "    should_continue,\n",
    "    {\n",
    "        True: \"search_and_analyze\",\n",
    "        False: END\n",
    "    }\n",
    ")\n",
    "\n",
    "# Compile the graph\n",
    "chain = workflow.compile()"
   ]
  },
  {
   "cell_type": "code",
   "execution_count": 30,
   "metadata": {},
   "outputs": [
    {
     "name": "stdout",
     "output_type": "stream",
     "text": [
      "Title: Indonesia - Countries & Regions - IEA\n",
      "Link: https://www.iea.org/countries/indonesia/oil\n",
      "Summary: Indonesia's imports of oil have rapidly increased in recent years. This resource-rich nation is the world's fourth-largest producer of coal and Southeast ...\n",
      "\n",
      "Title: Oil production in Indonesia 2012-2022 - Statista\n",
      "Link: https://www.statista.com/statistics/609047/oil-production-in-indonesia/\n",
      "Summary: Indonesia's oil production has been declining in the last decades largely due to its aging oil fields and constantly changing regulations that ...\n",
      "\n",
      "Title: Energy Resource Guide - Indonesia - Oil and Gas\n",
      "Link: https://www.trade.gov/energy-resource-guide-indonesia-oil-and-gas\n",
      "Summary: In 2019, the country's oil production was 746,800 barrels per day (bpd), lower than 2017's production of 803,000 bpd. 2018 production decreased again with 778, ...\n",
      "\n"
     ]
    }
   ],
   "source": [
    "# Example usage\n",
    "initial_state = {\n",
    "    \"messages\": [{\"role\": \"user\", \"content\": \"Give me an overview of the oil Industry condition in Indonesia the past 3 years\"}],\n",
    "    \"current_step\": 0\n",
    "}\n",
    "\n",
    "# Run the agent\n",
    "result = await chain.ainvoke(initial_state)"
   ]
  },
  {
   "cell_type": "code",
   "execution_count": 23,
   "metadata": {},
   "outputs": [
    {
     "name": "stdout",
     "output_type": "stream",
     "text": [
      "AI: Some of the latest developments in AI include the shift towards more pragmatic approaches, advancements in generative AI beyond chatbots, the emergence of AI agents as the next frontier, the development of new technologies such as GPT-4, GANs, XAI, and NLP, and the exploration of AI trends in robotics and machine learning for various applications. Additionally, there have been significant investments in AI leading to transformative advances impacting everyday lives, such as mapping technologies, voice-assisted smartphones, and handwriting recognition.\n",
      "\n",
      "AI: Some of the latest developments in AI include pragmatic approaches, advancements in generative AI beyond chatbots, the emergence of AI agents as the next frontier, the development of new technologies such as GPT-4, GANs, XAI, and NLP, and the exploration of AI trends in robotics and machine learning for various applications. Additionally, significant investments in AI have led to transformative advances impacting everyday lives, such as mapping technologies, voice-assisted smartphones, and handwriting recognition.\n",
      "\n",
      "AI: In summary, the latest developments in AI include pragmatic approaches, advancements in generative AI beyond chatbots, the emergence of AI agents as the next frontier, the development of new technologies like GPT-4, GANs, XAI, and NLP, and the exploration of AI trends in robotics and machine learning. Significant investments in AI have led to transformative advances impacting everyday lives, such as mapping technologies, voice-assisted smartphones, and handwriting recognition.\n",
      "\n"
     ]
    }
   ],
   "source": [
    "# Print results\n",
    "for message in result[\"messages\"]:\n",
    "    if message[\"role\"] == \"assistant\":\n",
    "        print(f\"AI: {message['content']}\\n\")"
   ]
  }
 ],
 "metadata": {
  "kernelspec": {
   "display_name": "Python 3",
   "language": "python",
   "name": "python3"
  },
  "language_info": {
   "codemirror_mode": {
    "name": "ipython",
    "version": 3
   },
   "file_extension": ".py",
   "mimetype": "text/x-python",
   "name": "python",
   "nbconvert_exporter": "python",
   "pygments_lexer": "ipython3",
   "version": "3.12.8"
  }
 },
 "nbformat": 4,
 "nbformat_minor": 2
}
